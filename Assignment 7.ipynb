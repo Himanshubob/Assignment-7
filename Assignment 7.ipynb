{
 "cells": [
  {
   "cell_type": "markdown",
   "id": "092ca7f4",
   "metadata": {},
   "source": [
    "# Q1. What is an Exception in python? Write the difference between Exceptions and and syntax errors"
   ]
  },
  {
   "cell_type": "markdown",
   "id": "5b1577e3",
   "metadata": {},
   "source": [
    "# Exception =  exception se error ko  hataya ja sakta hai"
   ]
  },
  {
   "cell_type": "markdown",
   "id": "740dd393",
   "metadata": {},
   "source": [
    "#  syntax= syntax error ko hame solve hi karna padega   syntax error exceptin se handl ho akta hai"
   ]
  },
  {
   "cell_type": "markdown",
   "id": "afc2d30f",
   "metadata": {},
   "source": [
    "# Q2. what happens when  an exception is not handled ?explain with an example"
   ]
  },
  {
   "cell_type": "markdown",
   "id": "26b52b4c",
   "metadata": {},
   "source": [
    "# syntax error ko exception handle nhi kar pata hai"
   ]
  },
  {
   "cell_type": "code",
   "execution_count": 1,
   "id": "34162b76",
   "metadata": {},
   "outputs": [
    {
     "ename": "SyntaxError",
     "evalue": "expected ':' (188976243.py, line 2)",
     "output_type": "error",
     "traceback": [
      "\u001b[1;36m  Cell \u001b[1;32mIn[1], line 2\u001b[1;36m\u001b[0m\n\u001b[1;33m    def moto()\u001b[0m\n\u001b[1;37m              ^\u001b[0m\n\u001b[1;31mSyntaxError\u001b[0m\u001b[1;31m:\u001b[0m expected ':'\n"
     ]
    }
   ],
   "source": [
    "try :\n",
    "    def moto()\n",
    "    pass\n",
    "except moto as m:\n",
    "    print(\" this is the syntax error\")"
   ]
  },
  {
   "cell_type": "markdown",
   "id": "2522823d",
   "metadata": {},
   "source": [
    "# Q3. which python ststements are used to catch and handle exception ? explain with an example."
   ]
  },
  {
   "cell_type": "markdown",
   "id": "f8661287",
   "metadata": {},
   "source": [
    "# try ,expect statement  used to handle  the exception"
   ]
  },
  {
   "cell_type": "code",
   "execution_count": 3,
   "id": "6d4017d9",
   "metadata": {},
   "outputs": [
    {
     "name": "stdout",
     "output_type": "stream",
     "text": [
      " this is the back of error\n"
     ]
    }
   ],
   "source": [
    "try:\n",
    "    f=open(\"test89.txt\",\"r\")\n",
    "except Exception as e:\n",
    "    print(\" this is the back of error\")"
   ]
  },
  {
   "cell_type": "markdown",
   "id": "f27c88bc",
   "metadata": {},
   "source": [
    "# Q4. explain with an example:                                       1.try and else                              2.finally                                      3.raise"
   ]
  },
  {
   "cell_type": "code",
   "execution_count": 4,
   "id": "0e88f722",
   "metadata": {},
   "outputs": [
    {
     "name": "stdout",
     "output_type": "stream",
     "text": [
      " this is the first case\n"
     ]
    }
   ],
   "source": [
    "try:\n",
    "    f=open(\"test.txt\",\"wb\")\n",
    "    print(\" this is the first case\")\n",
    "\n",
    "except Exception as e:\n",
    "    print( \"this is the first exception \")\n",
    "else:\n",
    "    f.close()"
   ]
  },
  {
   "cell_type": "code",
   "execution_count": 9,
   "id": "46c54c35",
   "metadata": {},
   "outputs": [],
   "source": [
    "def jay(ram): \n",
    "    if ram==1:\n",
    "        raise \"this is the 2 case:\"\n",
    "    elif ram>1:\n",
    "        raise \" this is the man\"\n",
    "    else:\n",
    "        print( \" ram always true\",ram)"
   ]
  },
  {
   "cell_type": "code",
   "execution_count": 10,
   "id": "5b997e09",
   "metadata": {},
   "outputs": [
    {
     "name": "stdout",
     "output_type": "stream",
     "text": [
      "enter the value of ram45\n"
     ]
    }
   ],
   "source": [
    "try:\n",
    "    ram=int( input( \"enter the value of ram\"))\n",
    "except jay as j:\n",
    "    print( \"hello\")"
   ]
  },
  {
   "cell_type": "markdown",
   "id": "f825d922",
   "metadata": {},
   "source": [
    "# Q5. what are custom exception in python ? why do we need custom exception ? explain with an example."
   ]
  },
  {
   "cell_type": "markdown",
   "id": "0cbb06e1",
   "metadata": {},
   "source": [
    "#  custom are used to input and condiation case  above example is an custom example"
   ]
  },
  {
   "cell_type": "code",
   "execution_count": null,
   "id": "64822d01",
   "metadata": {},
   "outputs": [],
   "source": []
  }
 ],
 "metadata": {
  "kernelspec": {
   "display_name": "Python 3 (ipykernel)",
   "language": "python",
   "name": "python3"
  },
  "language_info": {
   "codemirror_mode": {
    "name": "ipython",
    "version": 3
   },
   "file_extension": ".py",
   "mimetype": "text/x-python",
   "name": "python",
   "nbconvert_exporter": "python",
   "pygments_lexer": "ipython3",
   "version": "3.10.9"
  }
 },
 "nbformat": 4,
 "nbformat_minor": 5
}
